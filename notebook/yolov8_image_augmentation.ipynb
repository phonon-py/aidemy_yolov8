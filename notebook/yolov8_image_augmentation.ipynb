{
 "cells": [
  {
   "cell_type": "code",
   "execution_count": 2,
   "metadata": {},
   "outputs": [
    {
     "name": "stdout",
     "output_type": "stream",
     "text": [
      "画像の拡張が完了しました。\n"
     ]
    }
   ],
   "source": [
    "import os\n",
    "import random\n",
    "from PIL import Image, ImageEnhance\n",
    "import shutil\n",
    "\n",
    "def augment_image(image_path, output_dir, num_augmentations=3):\n",
    "    \"\"\"画像を拡張し、新しい画像を生成する\"\"\"\n",
    "    img = Image.open(image_path)\n",
    "    filename = os.path.basename(image_path)\n",
    "    name, ext = os.path.splitext(filename)\n",
    "\n",
    "    for i in range(num_augmentations):\n",
    "        # ランダムな回転\n",
    "        angle = random.choice([0, 90, 180, 270])\n",
    "        new_img = img.rotate(angle)\n",
    "\n",
    "        # ランダムな反転\n",
    "        if random.choice([True, False]):\n",
    "            new_img = new_img.transpose(Image.FLIP_LEFT_RIGHT)\n",
    "\n",
    "        # 明るさとコントラストの調整\n",
    "        enhancer = ImageEnhance.Brightness(new_img)\n",
    "        new_img = enhancer.enhance(random.uniform(0.8, 1.2))\n",
    "        enhancer = ImageEnhance.Contrast(new_img)\n",
    "        new_img = enhancer.enhance(random.uniform(0.8, 1.2))\n",
    "\n",
    "        # 新しい画像を保存\n",
    "        new_filename = f\"{name}_aug_{i}{ext}\"\n",
    "        new_img.save(os.path.join(output_dir, new_filename))\n",
    "\n",
    "def augment_dataset(input_dir, output_dir, num_augmentations=3):\n",
    "    \"\"\"ディレクトリ内のすべての画像を拡張する\"\"\"\n",
    "    if not os.path.exists(output_dir):\n",
    "        os.makedirs(output_dir)\n",
    "\n",
    "    # 入力ディレクトリと出力ディレクトリが異なる場合のみ元の画像をコピー\n",
    "    if input_dir != output_dir:\n",
    "        for filename in os.listdir(input_dir):\n",
    "            if filename.lower().endswith(('.png', '.jpg', '.jpeg')):\n",
    "                shutil.copy(os.path.join(input_dir, filename), output_dir)\n",
    "\n",
    "    # 画像を拡張\n",
    "    for filename in os.listdir(input_dir):\n",
    "        if filename.lower().endswith(('.png', '.jpg', '.jpeg')):\n",
    "            image_path = os.path.join(input_dir, filename)\n",
    "            augment_image(image_path, output_dir, num_augmentations)\n",
    "\n",
    "# 使用例\n",
    "input_train_dir = r\"C:\\Users\\041674\\Desktop\\crg_img_datasets\\images\\train\"\n",
    "input_val_dir = r\"C:\\Users\\041674\\Desktop\\crg_img_datasets\\images\\val\"\n",
    "output_train_dir = r\"C:\\Users\\041674\\Desktop\\crg_img_datasets\\images\\augmented_train\"\n",
    "output_val_dir = r\"C:\\Users\\041674\\Desktop\\crg_img_datasets\\images\\augmented_val\"\n",
    "\n",
    "augment_dataset(input_train_dir, output_train_dir, num_augmentations=3)\n",
    "augment_dataset(input_val_dir, output_val_dir, num_augmentations=1)\n",
    "\n",
    "print(\"画像の拡張が完了しました。\")"
   ]
  },
  {
   "cell_type": "code",
   "execution_count": null,
   "metadata": {},
   "outputs": [],
   "source": []
  }
 ],
 "metadata": {
  "kernelspec": {
   "display_name": "venv",
   "language": "python",
   "name": "python3"
  },
  "language_info": {
   "codemirror_mode": {
    "name": "ipython",
    "version": 3
   },
   "file_extension": ".py",
   "mimetype": "text/x-python",
   "name": "python",
   "nbconvert_exporter": "python",
   "pygments_lexer": "ipython3",
   "version": "3.12.2"
  }
 },
 "nbformat": 4,
 "nbformat_minor": 2
}
